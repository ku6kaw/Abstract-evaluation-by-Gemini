{
 "cells": [
  {
   "cell_type": "code",
   "execution_count": 9,
   "metadata": {},
   "outputs": [],
   "source": [
    "import pandas as pd\n",
    "import os\n",
    "\n",
    "# フォルダパスとフィールド、分類の定義\n",
    "data_path = \"../data/csv/all\"\n",
    "fields = [\"BioChemistry_Molecular_Biology\", \"Chemistry\", \"Engineering\", \"Materials_Science\", \"Physics\"]\n",
    "citations = [\"high\", \"low\"]\n",
    "\n",
    "# 最終的に格納するデータフレーム\n",
    "final_df = pd.DataFrame(columns=[\"Field\", \"Citation\", \"ID\", \"Title\", \"Abstract\"])\n",
    "\n",
    "# 各フィールドと分類に対応するファイルを処理\n",
    "for field in fields:\n",
    "    for citation in citations:\n",
    "        file_name = f\"{field}_{citation}1000.csv\"\n",
    "        file_path = os.path.join(data_path, file_name)\n",
    "        \n",
    "        if os.path.exists(file_path):\n",
    "            # CSVを読み込み\n",
    "            df = pd.read_csv(file_path, encoding=\"utf-8\")\n",
    "            \n",
    "            # アブストラクトが欠損していない行を選択\n",
    "            valid_rows = df.dropna(subset=[\"Abstract\"])\n",
    "            \n",
    "            # 先頭10件を取得\n",
    "            selected_rows = valid_rows.head(10)\n",
    "            \n",
    "            # データフレームに格納するためのリストを作成\n",
    "            for idx, row in selected_rows.iterrows():\n",
    "                final_df = pd.concat([\n",
    "                    final_df,\n",
    "                    pd.DataFrame({\n",
    "                        \"Field\": [field],\n",
    "                        \"Citation\": [citation],\n",
    "                        \"ID\": [idx + 1],\n",
    "                        \"Title\": [row[\"Title\"]],\n",
    "                        \"Abstract\": [row[\"Abstract\"]],\n",
    "                    })\n",
    "                ], ignore_index=True)\n"
   ]
  },
  {
   "cell_type": "code",
   "execution_count": 12,
   "metadata": {},
   "outputs": [
    {
     "data": {
      "text/html": [
       "<div>\n",
       "<style scoped>\n",
       "    .dataframe tbody tr th:only-of-type {\n",
       "        vertical-align: middle;\n",
       "    }\n",
       "\n",
       "    .dataframe tbody tr th {\n",
       "        vertical-align: top;\n",
       "    }\n",
       "\n",
       "    .dataframe thead th {\n",
       "        text-align: right;\n",
       "    }\n",
       "</style>\n",
       "<table border=\"1\" class=\"dataframe\">\n",
       "  <thead>\n",
       "    <tr style=\"text-align: right;\">\n",
       "      <th></th>\n",
       "      <th>Field</th>\n",
       "      <th>Citation</th>\n",
       "      <th>ID</th>\n",
       "      <th>Title</th>\n",
       "      <th>Abstract</th>\n",
       "    </tr>\n",
       "  </thead>\n",
       "  <tbody>\n",
       "    <tr>\n",
       "      <th>0</th>\n",
       "      <td>BioChemistry_Molecular_Biology</td>\n",
       "      <td>high</td>\n",
       "      <td>1</td>\n",
       "      <td>Analysis of relative gene expression data usin...</td>\n",
       "      <td>The two most commonly used methods to analyze ...</td>\n",
       "    </tr>\n",
       "    <tr>\n",
       "      <th>1</th>\n",
       "      <td>BioChemistry_Molecular_Biology</td>\n",
       "      <td>high</td>\n",
       "      <td>2</td>\n",
       "      <td>NIH Image to ImageJ: 25 years of image analysis</td>\n",
       "      <td>For the past 25 years NIH Image and ImageJ sof...</td>\n",
       "    </tr>\n",
       "    <tr>\n",
       "      <th>2</th>\n",
       "      <td>BioChemistry_Molecular_Biology</td>\n",
       "      <td>high</td>\n",
       "      <td>3</td>\n",
       "      <td>Fiji: an open-source platform for biological-i...</td>\n",
       "      <td>Fiji is a distribution of the popular open-sou...</td>\n",
       "    </tr>\n",
       "    <tr>\n",
       "      <th>3</th>\n",
       "      <td>BioChemistry_Molecular_Biology</td>\n",
       "      <td>high</td>\n",
       "      <td>4</td>\n",
       "      <td>Trimmomatic: a flexible trimmer for Illumina s...</td>\n",
       "      <td>Motivation: Although many next-generation sequ...</td>\n",
       "    </tr>\n",
       "    <tr>\n",
       "      <th>4</th>\n",
       "      <td>BioChemistry_Molecular_Biology</td>\n",
       "      <td>high</td>\n",
       "      <td>5</td>\n",
       "      <td>MEGA6: Molecular Evolutionary Genetics Analysi...</td>\n",
       "      <td>We announce the release of an advanced version...</td>\n",
       "    </tr>\n",
       "  </tbody>\n",
       "</table>\n",
       "</div>"
      ],
      "text/plain": [
       "                            Field Citation ID  \\\n",
       "0  BioChemistry_Molecular_Biology     high  1   \n",
       "1  BioChemistry_Molecular_Biology     high  2   \n",
       "2  BioChemistry_Molecular_Biology     high  3   \n",
       "3  BioChemistry_Molecular_Biology     high  4   \n",
       "4  BioChemistry_Molecular_Biology     high  5   \n",
       "\n",
       "                                               Title  \\\n",
       "0  Analysis of relative gene expression data usin...   \n",
       "1    NIH Image to ImageJ: 25 years of image analysis   \n",
       "2  Fiji: an open-source platform for biological-i...   \n",
       "3  Trimmomatic: a flexible trimmer for Illumina s...   \n",
       "4  MEGA6: Molecular Evolutionary Genetics Analysi...   \n",
       "\n",
       "                                            Abstract  \n",
       "0  The two most commonly used methods to analyze ...  \n",
       "1  For the past 25 years NIH Image and ImageJ sof...  \n",
       "2  Fiji is a distribution of the popular open-sou...  \n",
       "3  Motivation: Although many next-generation sequ...  \n",
       "4  We announce the release of an advanced version...  "
      ]
     },
     "execution_count": 12,
     "metadata": {},
     "output_type": "execute_result"
    }
   ],
   "source": [
    "final_df.head()"
   ]
  },
  {
   "cell_type": "code",
   "execution_count": 13,
   "metadata": {},
   "outputs": [
    {
     "name": "stdout",
     "output_type": "stream",
     "text": [
      "データが ../data/test/sampling_check.csv に保存されました。\n"
     ]
    }
   ],
   "source": [
    "# 保存先のファイル名を指定\n",
    "output_file = \"../data/test/sampling_check.csv\"\n",
    "\n",
    "# DataFrameをCSVファイルとして保存\n",
    "final_df.to_csv(output_file, index=False, encoding=\"utf-8\")\n",
    "\n",
    "print(f\"データが {output_file} に保存されました。\")\n"
   ]
  }
 ],
 "metadata": {
  "kernelspec": {
   "display_name": "venv",
   "language": "python",
   "name": "python3"
  },
  "language_info": {
   "codemirror_mode": {
    "name": "ipython",
    "version": 3
   },
   "file_extension": ".py",
   "mimetype": "text/x-python",
   "name": "python",
   "nbconvert_exporter": "python",
   "pygments_lexer": "ipython3",
   "version": "3.12.7"
  }
 },
 "nbformat": 4,
 "nbformat_minor": 2
}
