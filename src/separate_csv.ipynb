{
 "cells": [
  {
   "cell_type": "markdown",
   "metadata": {},
   "source": [
    "`/data/csv`内のファイルを 100 行ずつに分割して保存\n"
   ]
  },
  {
   "cell_type": "code",
   "execution_count": 12,
   "metadata": {},
   "outputs": [
    {
     "name": "stdout",
     "output_type": "stream",
     "text": [
      "CSVファイル ../data/csv/Physics_high1000.csv の読み込みに成功しました。\n",
      "ファイル ../data/csv/Physics/Physics_high1000_1.csv を保存しました。\n",
      "ファイル ../data/csv/Physics/Physics_high1000_2.csv を保存しました。\n",
      "ファイル ../data/csv/Physics/Physics_high1000_3.csv を保存しました。\n",
      "ファイル ../data/csv/Physics/Physics_high1000_4.csv を保存しました。\n",
      "ファイル ../data/csv/Physics/Physics_high1000_5.csv を保存しました。\n",
      "ファイル ../data/csv/Physics/Physics_high1000_6.csv を保存しました。\n",
      "ファイル ../data/csv/Physics/Physics_high1000_7.csv を保存しました。\n",
      "ファイル ../data/csv/Physics/Physics_high1000_8.csv を保存しました。\n",
      "ファイル ../data/csv/Physics/Physics_high1000_9.csv を保存しました。\n",
      "ファイル ../data/csv/Physics/Physics_high1000_10.csv を保存しました。\n",
      "10 個のファイルに分割されました。\n"
     ]
    }
   ],
   "source": [
    "import pandas as pd\n",
    "\n",
    "# 入力ファイル名と出力ファイル名のベースを指定\n",
    "output_file_base = \"Physics_high1000\"\n",
    "input_file = f\"../data/csv/{output_file_base}.csv\"\n",
    "\n",
    "rows_per_file = 100  # 分割する行数\n",
    "\n",
    "# CSVファイルを読み込む\n",
    "try:\n",
    "    df = pd.read_csv(input_file, encoding=\"utf-8\")\n",
    "    print(f\"CSVファイル {input_file} の読み込みに成功しました。\")\n",
    "except Exception as e:\n",
    "    print(f\"エラーが発生しました: {e}\")\n",
    "    raise\n",
    "\n",
    "# ファイルを分割して保存\n",
    "num_chunks = (len(df) + rows_per_file - 1) // rows_per_file  # 必要なファイル数を計算\n",
    "for i in range(num_chunks):\n",
    "    start_idx = i * rows_per_file\n",
    "    end_idx = start_idx + rows_per_file\n",
    "    chunk_df = df.iloc[start_idx:end_idx]\n",
    "    \n",
    "    # 分割後のファイル名を作成\n",
    "    output_file = f\"../data/csv/Physics/{output_file_base}_{i+1}.csv\"\n",
    "    \n",
    "    # ファイルを保存\n",
    "    chunk_df.to_csv(output_file, index=False, encoding=\"utf-8\")\n",
    "    print(f\"ファイル {output_file} を保存しました。\")\n",
    "\n",
    "print(f\"{num_chunks} 個のファイルに分割されました。\")\n"
   ]
  }
 ],
 "metadata": {
  "kernelspec": {
   "display_name": "venv",
   "language": "python",
   "name": "python3"
  },
  "language_info": {
   "codemirror_mode": {
    "name": "ipython",
    "version": 3
   },
   "file_extension": ".py",
   "mimetype": "text/x-python",
   "name": "python",
   "nbconvert_exporter": "python",
   "pygments_lexer": "ipython3",
   "version": "3.12.7"
  }
 },
 "nbformat": 4,
 "nbformat_minor": 2
}
