{
 "cells": [
  {
   "cell_type": "markdown",
   "metadata": {},
   "source": [
    "gemini の精度測定用\n",
    "\n",
    "5 分野・上位下位 10 件ずつ、合計 100 件を目視で評価するための雛形を csv ファイルとして保存\n"
   ]
  },
  {
   "cell_type": "code",
   "execution_count": 7,
   "metadata": {},
   "outputs": [
    {
     "name": "stdout",
     "output_type": "stream",
     "text": [
      "データが ../../data/test/sampling_check.csv に保存されました。\n"
     ]
    }
   ],
   "source": [
    "from utils import process_csv_files\n",
    "\n",
    "output_file = \"../../data/test/sampling_check.csv\"\n",
    "process_csv_files(output_file)"
   ]
  }
 ],
 "metadata": {
  "kernelspec": {
   "display_name": "venv",
   "language": "python",
   "name": "python3"
  },
  "language_info": {
   "codemirror_mode": {
    "name": "ipython",
    "version": 3
   },
   "file_extension": ".py",
   "mimetype": "text/x-python",
   "name": "python",
   "nbconvert_exporter": "python",
   "pygments_lexer": "ipython3",
   "version": "3.12.7"
  }
 },
 "nbformat": 4,
 "nbformat_minor": 2
}
