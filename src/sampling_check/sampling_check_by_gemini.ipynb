{
 "cells": [
  {
   "cell_type": "markdown",
   "metadata": {},
   "source": [
    "## 概要\n",
    "\n",
    "精度測定用データを作成する。（`Gemini`の回答）\n",
    "\n",
    "5 分野・上位下位 10 件ずつ、合計 100 件を`gemini`で判定して、\n",
    "`data/test/sampling_check_by_gemini.csv`として保存する。\n",
    "\n",
    "## 使い方\n",
    "\n",
    "`GEMINI_API_KEY`を適切に設定して実行する。\n"
   ]
  },
  {
   "cell_type": "markdown",
   "metadata": {},
   "source": [
    "# データの読み込み\n"
   ]
  },
  {
   "cell_type": "code",
   "execution_count": 21,
   "metadata": {},
   "outputs": [],
   "source": [
    "import os\n",
    "import json\n",
    "import google.generativeai as genai\n",
    "from dotenv import load_dotenv\n",
    "from utils import load_file_content\n",
    "from functions import create_test_data"
   ]
  },
  {
   "cell_type": "code",
   "execution_count": 22,
   "metadata": {},
   "outputs": [],
   "source": [
    "# システムプロンプトと評価指標をロード\n",
    "system_instructions_path = \"../prompt/system_instructions.txt\"\n",
    "rules_path = \"../prompt/rules.txt\"\n",
    "\n",
    "system_instructions = load_file_content(system_instructions_path)\n",
    "rules = load_file_content(rules_path)"
   ]
  },
  {
   "cell_type": "markdown",
   "metadata": {},
   "source": [
    "# モデルの設定\n"
   ]
  },
  {
   "cell_type": "code",
   "execution_count": 23,
   "metadata": {},
   "outputs": [],
   "source": [
    "# モデルのインスタンスを作成\n",
    "load_dotenv()\n",
    "genai.configure(api_key=os.getenv(\"GEMINI_API_KEY\"))\n",
    "model = genai.GenerativeModel(\n",
    "    model_name = \"gemini-1.5-flash\",\n",
    "    system_instruction = system_instructions,\n",
    "    generation_config={\n",
    "                        \"response_mime_type\": \"application/json\",\n",
    "                        \"temperature\": 0,\n",
    "                        \"top_p\": 0,\n",
    "                    }\n",
    ")"
   ]
  },
  {
   "cell_type": "markdown",
   "metadata": {},
   "source": [
    "# Gemini でのテストデータの作成\n"
   ]
  },
  {
   "cell_type": "code",
   "execution_count": 24,
   "metadata": {},
   "outputs": [],
   "source": [
    "# CSVファイルのパスを指定\n",
    "file_path = \"../../data/test/sampling_check.csv\"\n",
    "output_file = \"../../data/test/sampling_check_by_gemini.csv\""
   ]
  },
  {
   "cell_type": "code",
   "execution_count": 25,
   "metadata": {},
   "outputs": [
    {
     "name": "stdout",
     "output_type": "stream",
     "text": [
      "データの読み込みに成功しました。\n"
     ]
    },
    {
     "name": "stderr",
     "output_type": "stream",
     "text": [
      "100%|██████████| 100/100 [12:59<00:00,  7.80s/it]"
     ]
    },
    {
     "name": "stdout",
     "output_type": "stream",
     "text": [
      "結果を保存しました: ../../data/test/sampling_check_by_gemini.csv\n",
      "処理が完了しました。\n"
     ]
    },
    {
     "name": "stderr",
     "output_type": "stream",
     "text": [
      "\n"
     ]
    }
   ],
   "source": [
    "create_test_data(file_path, model, rules, output_file)"
   ]
  }
 ],
 "metadata": {
  "kernelspec": {
   "display_name": "venv",
   "language": "python",
   "name": "python3"
  },
  "language_info": {
   "codemirror_mode": {
    "name": "ipython",
    "version": 3
   },
   "file_extension": ".py",
   "mimetype": "text/x-python",
   "name": "python",
   "nbconvert_exporter": "python",
   "pygments_lexer": "ipython3",
   "version": "3.12.7"
  }
 },
 "nbformat": 4,
 "nbformat_minor": 2
}
