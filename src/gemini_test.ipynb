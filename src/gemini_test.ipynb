{
 "cells": [
  {
   "cell_type": "markdown",
   "metadata": {},
   "source": [
    "## 概要\n",
    "\n",
    "- `gemini`を使用して、論文のアブストラクトの評価を行うスクリプト\n",
    "- `gemini`の出力は JSON 形式に固定\n",
    "- `rules`で評価指標を指定\n",
    "- ``で用語等の定義を指定\n"
   ]
  },
  {
   "cell_type": "code",
   "execution_count": 29,
   "metadata": {},
   "outputs": [
    {
     "name": "stdout",
     "output_type": "stream",
     "text": [
      "Requirement already satisfied: pandas in /Volumes/Macintosh HD - Data 1/Users/quandomac1/Project/PTL1/venv/lib/python3.12/site-packages (2.2.3)\n",
      "Requirement already satisfied: numpy>=1.26.0 in /Volumes/Macintosh HD - Data 1/Users/quandomac1/Project/PTL1/venv/lib/python3.12/site-packages (from pandas) (2.1.3)\n",
      "Requirement already satisfied: python-dateutil>=2.8.2 in /Volumes/Macintosh HD - Data 1/Users/quandomac1/Project/PTL1/venv/lib/python3.12/site-packages (from pandas) (2.9.0.post0)\n",
      "Requirement already satisfied: pytz>=2020.1 in /Volumes/Macintosh HD - Data 1/Users/quandomac1/Project/PTL1/venv/lib/python3.12/site-packages (from pandas) (2024.2)\n",
      "Requirement already satisfied: tzdata>=2022.7 in /Volumes/Macintosh HD - Data 1/Users/quandomac1/Project/PTL1/venv/lib/python3.12/site-packages (from pandas) (2024.2)\n",
      "Requirement already satisfied: six>=1.5 in /Volumes/Macintosh HD - Data 1/Users/quandomac1/Project/PTL1/venv/lib/python3.12/site-packages (from python-dateutil>=2.8.2->pandas) (1.16.0)\n",
      "\n",
      "\u001b[1m[\u001b[0m\u001b[34;49mnotice\u001b[0m\u001b[1;39;49m]\u001b[0m\u001b[39;49m A new release of pip is available: \u001b[0m\u001b[31;49m24.2\u001b[0m\u001b[39;49m -> \u001b[0m\u001b[32;49m24.3.1\u001b[0m\n",
      "\u001b[1m[\u001b[0m\u001b[34;49mnotice\u001b[0m\u001b[1;39;49m]\u001b[0m\u001b[39;49m To update, run: \u001b[0m\u001b[32;49mpip install --upgrade pip\u001b[0m\n"
     ]
    }
   ],
   "source": [
    "# 初期設定\n",
    "!pip install pandas\n",
    "import pathlib\n",
    "import textwrap\n",
    "import google.generativeai as genai\n",
    "import os\n",
    "from dotenv import load_dotenv\n",
    "from IPython.display import display\n",
    "from IPython.display import Markdown\n",
    "import pandas as pd\n"
   ]
  },
  {
   "cell_type": "code",
   "execution_count": 30,
   "metadata": {},
   "outputs": [
    {
     "name": "stdout",
     "output_type": "stream",
     "text": [
      "データの読み込みに成功しました。\n"
     ]
    }
   ],
   "source": [
    "file_name = \"Biochemistry_Molecular_Biology_low1000\"  # ファイル名\n",
    "input_file = f\"../data/csv/{file_name}.csv\"  # タブ区切りの.txtファイル\n",
    "output_file = f\"../data/result/{file_name}.csv\"  # 出力する.csvファイル\n",
    "\n",
    "try:\n",
    "    df = pd.read_csv(input_file, encoding=\"utf-8\")\n",
    "    print(\"データの読み込みに成功しました。\")\n",
    "except Exception as e:\n",
    "    print(f\"エラーが発生しました: {e}\")"
   ]
  },
  {
   "cell_type": "code",
   "execution_count": 31,
   "metadata": {},
   "outputs": [
    {
     "data": {
      "text/html": [
       "<div>\n",
       "<style scoped>\n",
       "    .dataframe tbody tr th:only-of-type {\n",
       "        vertical-align: middle;\n",
       "    }\n",
       "\n",
       "    .dataframe tbody tr th {\n",
       "        vertical-align: top;\n",
       "    }\n",
       "\n",
       "    .dataframe thead th {\n",
       "        text-align: right;\n",
       "    }\n",
       "</style>\n",
       "<table border=\"1\" class=\"dataframe\">\n",
       "  <thead>\n",
       "    <tr style=\"text-align: right;\">\n",
       "      <th></th>\n",
       "      <th>Publication Type</th>\n",
       "      <th>Authors</th>\n",
       "      <th>Title</th>\n",
       "      <th>Abstract</th>\n",
       "      <th>DOI</th>\n",
       "    </tr>\n",
       "  </thead>\n",
       "  <tbody>\n",
       "    <tr>\n",
       "      <th>0</th>\n",
       "      <td>J</td>\n",
       "      <td>Athare, SV; Gejji, SP</td>\n",
       "      <td>Regioselectivity in nonsymmetric methyl pentyl...</td>\n",
       "      <td>The present work illustrates regioselective bi...</td>\n",
       "      <td>10.1016/j.jmgm.2019.107960</td>\n",
       "    </tr>\n",
       "    <tr>\n",
       "      <th>1</th>\n",
       "      <td>J</td>\n",
       "      <td>Brunetti, M; Mortola, JP</td>\n",
       "      <td>Hypoxic hypometabolism in chicken embryos: con...</td>\n",
       "      <td>Postnatally, during hypoxia the decrease in ox...</td>\n",
       "      <td>10.1016/j.cbpa.2019.110578</td>\n",
       "    </tr>\n",
       "    <tr>\n",
       "      <th>2</th>\n",
       "      <td>J</td>\n",
       "      <td>Du, ZF; Qu, Y; Farrell, NP</td>\n",
       "      <td>Intramolecular platinum migration on a peptide...</td>\n",
       "      <td>We report the migration of platinum ligand uni...</td>\n",
       "      <td>10.1016/j.jinorgbio.2019.110858</td>\n",
       "    </tr>\n",
       "    <tr>\n",
       "      <th>3</th>\n",
       "      <td>B</td>\n",
       "      <td>Jahn, D; Geier, A</td>\n",
       "      <td>Transcriptional control of cells by vitamin D ...</td>\n",
       "      <td>NaN</td>\n",
       "      <td>10.1016/B978-0-12-811907-5.00030-0</td>\n",
       "    </tr>\n",
       "    <tr>\n",
       "      <th>4</th>\n",
       "      <td>J</td>\n",
       "      <td>Pakravan, M; Shamsollahi, MB</td>\n",
       "      <td>Spatial and temporal joint, partially-joint an...</td>\n",
       "      <td>absectionBackground Three types of sources can...</td>\n",
       "      <td>10.1016/j.jneumeth.2019.108453</td>\n",
       "    </tr>\n",
       "  </tbody>\n",
       "</table>\n",
       "</div>"
      ],
      "text/plain": [
       "  Publication Type                       Authors  \\\n",
       "0                J         Athare, SV; Gejji, SP   \n",
       "1                J      Brunetti, M; Mortola, JP   \n",
       "2                J    Du, ZF; Qu, Y; Farrell, NP   \n",
       "3                B             Jahn, D; Geier, A   \n",
       "4                J  Pakravan, M; Shamsollahi, MB   \n",
       "\n",
       "                                               Title  \\\n",
       "0  Regioselectivity in nonsymmetric methyl pentyl...   \n",
       "1  Hypoxic hypometabolism in chicken embryos: con...   \n",
       "2  Intramolecular platinum migration on a peptide...   \n",
       "3  Transcriptional control of cells by vitamin D ...   \n",
       "4  Spatial and temporal joint, partially-joint an...   \n",
       "\n",
       "                                            Abstract  \\\n",
       "0  The present work illustrates regioselective bi...   \n",
       "1  Postnatally, during hypoxia the decrease in ox...   \n",
       "2  We report the migration of platinum ligand uni...   \n",
       "3                                                NaN   \n",
       "4  absectionBackground Three types of sources can...   \n",
       "\n",
       "                                  DOI  \n",
       "0          10.1016/j.jmgm.2019.107960  \n",
       "1          10.1016/j.cbpa.2019.110578  \n",
       "2     10.1016/j.jinorgbio.2019.110858  \n",
       "3  10.1016/B978-0-12-811907-5.00030-0  \n",
       "4      10.1016/j.jneumeth.2019.108453  "
      ]
     },
     "execution_count": 31,
     "metadata": {},
     "output_type": "execute_result"
    }
   ],
   "source": [
    "df.head()"
   ]
  },
  {
   "cell_type": "code",
   "execution_count": 32,
   "metadata": {},
   "outputs": [],
   "source": [
    "# モデルのインスタンスを作成\n",
    "model = genai.GenerativeModel(\n",
    "    \"gemini-1.5-flash\",\n",
    "    generation_config={\"response_mime_type\": \"application/json\"}\n",
    ")"
   ]
  },
  {
   "cell_type": "code",
   "execution_count": null,
   "metadata": {},
   "outputs": [],
   "source": [
    "# 入力部分\n",
    "Abstract = \"Deeper neural networks are more difficult to train. We present a residual learning framework to ease the training of networks that are substantially deeper than those used previously. We explicitly reformulate the layers as learning residual functions with reference to the layer inputs, instead of learning unreferenced functions. We provide comprehensive empirical evidence showing that these residual networks are easier to optimize, and can gain accuracy from considerably increased depth. On the ImageNet dataset we evaluate residual nets with a depth of up to 152 layers-8x deeper than VGG nets [40] but still having lower complexity. An ensemble of these residual nets achieves 3.57% error on the ImageNet test set. This result won the 1st place on the ILSVRC 2015 classification task. We also present analysis on CIFAR-10 with 100 and 1000 layers. The depth of representations is of central importance for many visual recognition tasks. Solely due to our extremely deep representations, we obtain a 28% relative improvement on the COCO object detection dataset. Deep residual nets are foundations of our submissions to ILSVRC & COCO 2015 competitions(1), where we also won the 1st places on the tasks of ImageNet detection, ImageNet localization, COCO detection, and COCO segmentation.\""
   ]
  },
  {
   "cell_type": "code",
   "execution_count": null,
   "metadata": {},
   "outputs": [],
   "source": [
    "# 用語等の定義\n",
    "definition = \"\"\"\n",
    "用語等の定義を入力\n",
    "\"\"\"\n",
    "\n",
    "# 指示部分\n",
    "instruction = \"\"\"\n",
    "Please answer yes or no if your abstract follows each of the rules in JSON format.\n",
    "\n",
    "Use this JSON schema:\n",
    "\n",
    "results = {'abstract_id': int, 'rules': list[str]}\n",
    "Return: list[results]\n",
    "\n",
    "\"\"\"\n",
    "\n",
    "# アブストラクト\n",
    "abstract = f\"\"\"\n",
    "Abstract: {Abstract}\n",
    "\"\"\"\n",
    "\n",
    "# 評価指標\n",
    "rules = \"\"\"\n",
    "Rules:\n",
    "1. The objectives, methods, results, and conclusions are clearly stated.\n",
    "2. It avoids the passive voice and uses active expressions.\n",
    "3. Separating facts from claims.\n",
    "\"\"\"\n",
    "\n",
    "# プロンプトの作成\n",
    "prompt = f\"{instruction}\\n{abstract}\\n{definition}\\n{rules}\" "
   ]
  },
  {
   "cell_type": "code",
   "execution_count": 35,
   "metadata": {},
   "outputs": [],
   "source": [
    "# geminiを使った回答の生成\n",
    "def generate_response(model, prompt):\n",
    "    response = model.generate_content(prompt)\n",
    "    return response\n"
   ]
  },
  {
   "cell_type": "code",
   "execution_count": 36,
   "metadata": {},
   "outputs": [
    {
     "name": "stdout",
     "output_type": "stream",
     "text": [
      "[{\"abstract_id\": 1, \"rules\": [\"yes\", \"yes\", \"yes\"]}]\n"
     ]
    }
   ],
   "source": [
    "print(generate_response(model, prompt).text)"
   ]
  }
 ],
 "metadata": {
  "kernelspec": {
   "display_name": "venv",
   "language": "python",
   "name": "python3"
  },
  "language_info": {
   "codemirror_mode": {
    "name": "ipython",
    "version": 3
   },
   "file_extension": ".py",
   "mimetype": "text/x-python",
   "name": "python",
   "nbconvert_exporter": "python",
   "pygments_lexer": "ipython3",
   "version": "3.12.7"
  }
 },
 "nbformat": 4,
 "nbformat_minor": 2
}
