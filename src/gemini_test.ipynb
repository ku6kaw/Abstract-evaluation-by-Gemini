{
 "cells": [
  {
   "cell_type": "code",
   "execution_count": 129,
   "metadata": {},
   "outputs": [],
   "source": [
    "# 初期設定\n",
    "import pathlib\n",
    "import textwrap\n",
    "\n",
    "import google.generativeai as genai\n",
    "import os\n",
    "from dotenv import load_dotenv\n",
    "\n",
    "from IPython.display import display\n",
    "from IPython.display import Markdown\n",
    "\n",
    "\n",
    "def to_markdown(text):\n",
    "    text = text.replace(\"•\", \"  *\")\n",
    "    return Markdown(textwrap.indent(text, \"> \", predicate=lambda _: True))\n",
    "\n",
    "load_dotenv()\n",
    "API_KEY = os.getenv(\"GEMINI_API_KEY\")\n",
    "\n",
    "genai.configure(api_key=API_KEY)"
   ]
  },
  {
   "cell_type": "code",
   "execution_count": 130,
   "metadata": {},
   "outputs": [
    {
     "name": "stdout",
     "output_type": "stream",
     "text": [
      "True\n"
     ]
    }
   ],
   "source": [
    "import json\n",
    "import re\n",
    "\n",
    "def validate_json_format(json_data, abstract_id=None):\n",
    "    # 定義されたルールを持つ正しい形式を検証する\n",
    "    try:\n",
    "        # JSONデータからバッククォートを削除\n",
    "        json_data = re.sub(r'^```json|```$', '', json_data.strip())\n",
    "\n",
    "        # JSONデータが正しいかどうかを解析\n",
    "        data = json.loads(json_data)\n",
    "\n",
    "        if not isinstance(data, list):\n",
    "            return False\n",
    "\n",
    "        for item in data:\n",
    "            if not isinstance(item, dict):\n",
    "                return False\n",
    "\n",
    "            if 'abstract_id' not in item or 'rules' not in item:\n",
    "                return False\n",
    "\n",
    "            if not isinstance(item['abstract_id'], int):\n",
    "                return False\n",
    "\n",
    "            if not isinstance(item['rules'], list):\n",
    "                return False\n",
    "\n",
    "            for rule in item['rules']:\n",
    "                if rule not in ['yes', 'no']:\n",
    "                    return False\n",
    "\n",
    "        # abstract_idが指定されている場合、そのIDが存在するか確認\n",
    "        if abstract_id is not None:\n",
    "            if not any(item['abstract_id'] == abstract_id for item in data):\n",
    "                return False\n",
    "\n",
    "        return True\n",
    "\n",
    "    except json.JSONDecodeError:\n",
    "        # JSONが正しくない場合、Falseを返す\n",
    "        return False\n",
    "\n",
    "# 使用例\n",
    "json_data = \"\"\"```json\n",
    "[\n",
    "  {\n",
    "    \"abstract_id\": 1,\n",
    "    \"rules\": [\"yes\", \"no\", \"no\"]\n",
    "  },\n",
    "  {\n",
    "    \"abstract_id\": 2,\n",
    "    \"rules\": [\"no\", \"yes\", \"yes\"]\n",
    "  },\n",
    "  {\n",
    "    \"abstract_id\": 3,\n",
    "    \"rules\": [\"yes\", \"yes\", \"no\"]\n",
    "  }\n",
    "]\n",
    "```\"\"\"\n",
    "\n",
    "is_valid = validate_json_format(json_data, abstract_id=2)\n",
    "print(is_valid)  # 正しい形式ならTrueを、誤っている場合はFalseを出力\n"
   ]
  },
  {
   "cell_type": "code",
   "execution_count": 132,
   "metadata": {},
   "outputs": [],
   "source": [
    "# モデルのインスタンスを作成\n",
    "model = genai.GenerativeModel(\n",
    "    \"gemini-1.5-flash\",\n",
    "    generation_config={\"response_mime_type\": \"application/json\"}\n",
    ")"
   ]
  },
  {
   "cell_type": "code",
   "execution_count": 133,
   "metadata": {},
   "outputs": [
    {
     "name": "stdout",
     "output_type": "stream",
     "text": [
      "CPU times: user 12.8 ms, sys: 12.9 ms, total: 25.6 ms\n",
      "Wall time: 1.77 s\n"
     ]
    }
   ],
   "source": [
    "%%time\n",
    "\n",
    "# \n",
    "Abstract_ID = 1\n",
    "Abstract = \"Deeper neural networks are more difficult to train. We present a residual learning framework to ease the training of networks that are substantially deeper than those used previously. We explicitly reformulate the layers as learning residual functions with reference to the layer inputs, instead of learning unreferenced functions. We provide comprehensive empirical evidence showing that these residual networks are easier to optimize, and can gain accuracy from considerably increased depth. On the ImageNet dataset we evaluate residual nets with a depth of up to 152 layers-8x deeper than VGG nets [40] but still having lower complexity. An ensemble of these residual nets achieves 3.57% error on the ImageNet test set. This result won the 1st place on the ILSVRC 2015 classification task. We also present analysis on CIFAR-10 with 100 and 1000 layers. The depth of representations is of central importance for many visual recognition tasks. Solely due to our extremely deep representations, we obtain a 28% relative improvement on the COCO object detection dataset. Deep residual nets are foundations of our submissions to ILSVRC & COCO 2015 competitions(1), where we also won the 1st places on the tasks of ImageNet detection, ImageNet localization, COCO detection, and COCO segmentation.\"\n",
    "\n",
    "# 回答を生成\n",
    "prompt = \"\"\"Please answer yes or no if your abstract follows each of the rules in JSON format.\n",
    "\n",
    "Use this JSON schema:\n",
    "\n",
    "results = {'abstract_id': int, 'rules': list[str]}\n",
    "Return: list[results]\n",
    "\n",
    "Abstract_ID: {Abstract_ID}\n",
    "Abstract: {Abstract}\n",
    "\n",
    "Rules:\n",
    "1. The objectives, methods, results, and conclusions are clearly stated.\n",
    "2. It avoids the passive voice and uses active expressions.\n",
    "3. Separating facts from claims.\n",
    "\"\"\"\n",
    "\n",
    "response = model.generate_content(prompt)"
   ]
  },
  {
   "cell_type": "code",
   "execution_count": 134,
   "metadata": {},
   "outputs": [
    {
     "data": {
      "text/markdown": [
       "> [{\"abstract_id\": 1, \"rules\": [\"yes\", \"no\", \"yes\"]}, {\"abstract_id\": 2, \"rules\": [\"no\", \"yes\", \"no\"]}, {\"abstract_id\": 3, \"rules\": [\"yes\", \"yes\", \"yes\"]}]\n"
      ],
      "text/plain": [
       "<IPython.core.display.Markdown object>"
      ]
     },
     "execution_count": 134,
     "metadata": {},
     "output_type": "execute_result"
    }
   ],
   "source": [
    "# 結果をマークダウンで表示\n",
    "to_markdown(response.text)"
   ]
  },
  {
   "cell_type": "code",
   "execution_count": 135,
   "metadata": {},
   "outputs": [
    {
     "name": "stdout",
     "output_type": "stream",
     "text": [
      "True\n"
     ]
    }
   ],
   "source": [
    "# 結果がJSON形式であるかどうかを検証\n",
    "json_data = response.text\n",
    "\n",
    "is_valid = validate_json_format(json_data, abstract_id=1)\n",
    "print(is_valid)  # 正しい形式ならTrueを、誤っている場合はFalseを出力"
   ]
  },
  {
   "cell_type": "code",
   "execution_count": 136,
   "metadata": {},
   "outputs": [
    {
     "name": "stdout",
     "output_type": "stream",
     "text": [
      "[{\"abstract_id\": 1, \"rules\": [\"yes\", \"no\", \"yes\"]}, {\"abstract_id\": 2, \"rules\": [\"no\", \"yes\", \"no\"]}, {\"abstract_id\": 3, \"rules\": [\"yes\", \"yes\", \"yes\"]}]\n",
      "\n"
     ]
    }
   ],
   "source": [
    "# 結果をJSONで表示\n",
    "print(response.text)"
   ]
  }
 ],
 "metadata": {
  "kernelspec": {
   "display_name": "venv",
   "language": "python",
   "name": "python3"
  },
  "language_info": {
   "codemirror_mode": {
    "name": "ipython",
    "version": 3
   },
   "file_extension": ".py",
   "mimetype": "text/x-python",
   "name": "python",
   "nbconvert_exporter": "python",
   "pygments_lexer": "ipython3",
   "version": "3.12.6"
  }
 },
 "nbformat": 4,
 "nbformat_minor": 2
}
