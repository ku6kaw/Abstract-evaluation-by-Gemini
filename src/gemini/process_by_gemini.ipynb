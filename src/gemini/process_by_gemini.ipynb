{
 "cells": [
  {
   "cell_type": "markdown",
   "metadata": {},
   "source": [
    "## 概要\n",
    "\n",
    "メインの実験用。\n",
    "`gemini`を使用して、論文のアブストラクトの評価を行う。\n",
    "\n",
    "システムプロンプトは`src/prompt/system_instructions.txt`に記載。\n",
    "\n",
    "アブストラクトの評価指標は`src/prompt/rules.txt`に記載。\n",
    "\n",
    "## モデルについて\n",
    "\n",
    "- `gemini-1.5-flash`\n",
    "- 回答は`JSON`に固定\n",
    "- `temperature`: 0\n",
    "- `Top-P`: 0\n",
    "\n",
    "## 使い方\n",
    "\n",
    "『分野』と『high or low』を指定して実行するだけ\n",
    "\n",
    "実行結果は`data/results/{分野名}`に csv ファイルとして保存されます。\n",
    "\n",
    "構造は`[ID,Abstract,rule1,rule2,...,rule31]`\n"
   ]
  },
  {
   "cell_type": "markdown",
   "metadata": {},
   "source": [
    "# データの読み込み\n"
   ]
  },
  {
   "cell_type": "code",
   "execution_count": null,
   "metadata": {},
   "outputs": [],
   "source": [
    "# import\n",
    "import sys\n",
    "import os\n",
    "import google.generativeai as genai\n",
    "from dotenv import load_dotenv\n",
    "\n",
    "current_dir = os.getcwd()\n",
    "project_root = os.path.abspath(os.path.join(current_dir, \"..\"))\n",
    "sys.path.append(project_root)\n",
    "\n",
    "from utils import load_file_content\n",
    "from gemini_processor import process_gemini"
   ]
  },
  {
   "cell_type": "code",
   "execution_count": null,
   "metadata": {},
   "outputs": [],
   "source": [
    "# システムプロンプトと評価指標をロード\n",
    "system_instructions_path = \"../prompt/system_instructions.txt\"\n",
    "rules_path = \"../prompt/rules.txt\"\n",
    "\n",
    "system_instructions = load_file_content(system_instructions_path)\n",
    "rules = load_file_content(rules_path)"
   ]
  },
  {
   "cell_type": "code",
   "execution_count": null,
   "metadata": {},
   "outputs": [],
   "source": [
    "# パスの設定\n",
    "base_input_path = \"../../data/csv\"\n",
    "base_output_path = \"../../data/results\"\n",
    "fields = [\"Biochemistry_Molecular_Biology\", \"Chemistry\", \"Engineering\", \"Materials_Science\", \"Physics\"]"
   ]
  },
  {
   "cell_type": "markdown",
   "metadata": {},
   "source": [
    "# モデルの設定\n"
   ]
  },
  {
   "cell_type": "code",
   "execution_count": null,
   "metadata": {},
   "outputs": [],
   "source": [
    "# モデルのインスタンスを作成\n",
    "load_dotenv()\n",
    "genai.configure(api_key=os.getenv(\"GEMINI_API_KEY\"))\n",
    "model = genai.GenerativeModel(\n",
    "    model_name = \"gemini-1.5-flash\",\n",
    "    system_instruction = system_instructions,\n",
    "    generation_config={\n",
    "                        \"response_mime_type\": \"application/json\",\n",
    "                        \"temperature\": 0,\n",
    "                        \"top_p\": 0,\n",
    "                    }\n",
    ")"
   ]
  },
  {
   "cell_type": "markdown",
   "metadata": {},
   "source": [
    "# Gemini を使用した回答の生成\n"
   ]
  },
  {
   "cell_type": "code",
   "execution_count": null,
   "metadata": {},
   "outputs": [],
   "source": [
    "# 分野を指定\n",
    "    # 0: Biochemistry_Molecular_Biology\n",
    "    # 1: Chemistry\n",
    "    # 2: Engineering\n",
    "    # 3: Materials_Science\n",
    "    # 4: Physics\n",
    "selected_field = fields[0]\n",
    "citation_type = \"high\"  # \"high\" or \"low\" "
   ]
  },
  {
   "cell_type": "code",
   "execution_count": null,
   "metadata": {},
   "outputs": [],
   "source": [
    "# 処理を実行\n",
    "process_gemini(model, rules, base_input_path, base_output_path, selected_field, citation_type)"
   ]
  }
 ],
 "metadata": {
  "kernelspec": {
   "display_name": "venv",
   "language": "python",
   "name": "python3"
  },
  "language_info": {
   "codemirror_mode": {
    "name": "ipython",
    "version": 3
   },
   "file_extension": ".py",
   "mimetype": "text/x-python",
   "name": "python",
   "nbconvert_exporter": "python",
   "pygments_lexer": "ipython3",
   "version": "3.12.7"
  }
 },
 "nbformat": 4,
 "nbformat_minor": 2
}
