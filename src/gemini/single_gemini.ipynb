{
 "cells": [
  {
   "cell_type": "code",
   "execution_count": null,
   "metadata": {
    "vscode": {
     "languageId": "plaintext"
    }
   },
   "outputs": [],
   "source": [
    "# file_name = \"Biochemistry_Molecular_Biology_high1000_3\"\n",
    "# input_file = f\"../data/csv/Bio/{file_name}.csv\"\n",
    "# output_file = f\"../data/results/Bio/{file_name}.csv\"\n",
    "\n",
    "# # 読み込むデータの行数を指定\n",
    "# num_rows_to_read = 5\n",
    "\n",
    "# try:\n",
    "#     # df = pd.read_csv(input_file, encoding=\"utf-8\", nrows=num_rows_to_read)\n",
    "#     df = pd.read_csv(input_file, encoding=\"utf-8\")\n",
    "#     print(\"データの読み込みに成功しました。\")\n",
    "# except Exception as e:\n",
    "#     print(f\"エラーが発生しました: {e}\")"
   ]
  },
  {
   "cell_type": "code",
   "execution_count": null,
   "metadata": {
    "vscode": {
     "languageId": "plaintext"
    }
   },
   "outputs": [],
   "source": [
    "# df[\"ID\"] = df.index\n",
    "# cols = [\"ID\"] + [col for col in df.columns if col != \"ID\"]\n",
    "# df = df[cols]\n",
    "# abstracts = [\n",
    "#     {\"abstract_id\": row[\"ID\"], \"content\": row[\"Abstract\"]}\n",
    "#     for _, row in df.dropna(subset=[\"Abstract\"]).iterrows()\n",
    "# ]"
   ]
  },
  {
   "cell_type": "code",
   "execution_count": null,
   "metadata": {
    "vscode": {
     "languageId": "plaintext"
    }
   },
   "outputs": [],
   "source": [
    "# %%time\n",
    "# raw_responses = process_abstracts(model, abstracts, definition, instruction, rules)"
   ]
  },
  {
   "cell_type": "code",
   "execution_count": null,
   "metadata": {
    "vscode": {
     "languageId": "plaintext"
    }
   },
   "outputs": [],
   "source": [
    "# # DataFrameに変換\n",
    "# results_df = pd.DataFrame(raw_responses)\n",
    "\n",
    "# # `response`をパースして新しいカラムを作成\n",
    "# rules_df = results_df[\"response\"].apply(parse_response).apply(pd.Series)\n",
    "\n",
    "# # `abstract_id`にルールを結合\n",
    "# results_df = pd.concat([results_df, rules_df], axis=1).drop(columns=[\"response\"])\n",
    "\n",
    "# # 元のDataFrameと評価結果を結合\n",
    "# merged_df = df.merge(results_df, left_on=\"ID\", right_on=\"abstract_id\", how=\"left\").drop(columns=[\"abstract_id\"])\n"
   ]
  },
  {
   "cell_type": "code",
   "execution_count": null,
   "metadata": {
    "vscode": {
     "languageId": "plaintext"
    }
   },
   "outputs": [],
   "source": [
    "# merged_df.head()"
   ]
  },
  {
   "cell_type": "code",
   "execution_count": null,
   "metadata": {
    "vscode": {
     "languageId": "plaintext"
    }
   },
   "outputs": [],
   "source": [
    "# # 指定したカラムを除外\n",
    "# columns_to_exclude = [\"Publication Type\", \"Authors\", \"Title\", \"DOI\"]\n",
    "# filtered_df = merged_df.drop(columns=columns_to_exclude)"
   ]
  },
  {
   "cell_type": "code",
   "execution_count": null,
   "metadata": {
    "vscode": {
     "languageId": "plaintext"
    }
   },
   "outputs": [],
   "source": [
    "# filtered_df.to_csv(output_file, index=False, encoding=\"utf-8\")"
   ]
  }
 ],
 "metadata": {
  "language_info": {
   "name": "python"
  }
 },
 "nbformat": 4,
 "nbformat_minor": 2
}
