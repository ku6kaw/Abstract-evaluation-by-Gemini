{
 "cells": [
  {
   "cell_type": "code",
   "execution_count": 5,
   "metadata": {},
   "outputs": [],
   "source": [
    "import os\n",
    "import pandas as pd\n",
    "\n",
    "def process_all_csv_files_in_directory(input_directory, output_directory):\n",
    "    \"\"\"\n",
    "    指定したディレクトリ内のすべてのCSVファイルに対して処理を行い、結果を保存します。\n",
    "    処理内容: \"rule32\" カラムを削除し、修正後のファイルを別ディレクトリに保存。\n",
    "    \n",
    "    Args:\n",
    "        input_directory (str): 入力ディレクトリのパス。\n",
    "        output_directory (str): 出力ディレクトリのパス。\n",
    "    \"\"\"\n",
    "    # 出力ディレクトリを作成（存在しない場合のみ）\n",
    "    os.makedirs(output_directory, exist_ok=True)\n",
    "\n",
    "    # 指定されたディレクトリ内のすべてのCSVファイルを処理\n",
    "    for file_name in os.listdir(input_directory):\n",
    "        if file_name.endswith(\".csv\"):\n",
    "            input_file_path = os.path.join(input_directory, file_name)\n",
    "            output_file_path = os.path.join(output_directory, file_name)\n",
    "\n",
    "            try:\n",
    "                # CSVファイルを読み込み\n",
    "                df = pd.read_csv(input_file_path, encoding=\"utf-8\")\n",
    "                \n",
    "                # \"rule32\" カラムを削除\n",
    "                if \"rule32\" in df.columns:\n",
    "                    df = df.drop(columns=[\"rule32\"])\n",
    "                    print(f\"{file_name}: 'rule32' カラムを削除しました。\")\n",
    "                else:\n",
    "                    print(f\"{file_name}: 'rule32' カラムは存在しません。\")\n",
    "                \n",
    "                # 修正後のCSVを保存\n",
    "                df.to_csv(output_file_path, index=False, encoding=\"utf-8\")\n",
    "                print(f\"{file_name}: 修正後のCSVファイルを保存しました: {output_file_path}\")\n",
    "            \n",
    "            except Exception as e:\n",
    "                print(f\"{file_name}: エラーが発生しました - {e}\")\n",
    "\n",
    "\n"
   ]
  },
  {
   "cell_type": "code",
   "execution_count": 6,
   "metadata": {},
   "outputs": [
    {
     "name": "stdout",
     "output_type": "stream",
     "text": [
      "Physics_low1000_7.csv: 'rule32' カラムは存在しません。\n",
      "Physics_low1000_7.csv: 修正後のCSVファイルを保存しました: ../../data/results/Physics/Physics_low1000_7.csv\n",
      "Physics_low1000_6.csv: 'rule32' カラムは存在しません。\n",
      "Physics_low1000_6.csv: 修正後のCSVファイルを保存しました: ../../data/results/Physics/Physics_low1000_6.csv\n",
      "Physics_low1000_4.csv: 'rule32' カラムは存在しません。\n",
      "Physics_low1000_4.csv: 修正後のCSVファイルを保存しました: ../../data/results/Physics/Physics_low1000_4.csv\n",
      "Physics_low1000_5.csv: 'rule32' カラムを削除しました。\n",
      "Physics_low1000_5.csv: 修正後のCSVファイルを保存しました: ../../data/results/Physics/Physics_low1000_5.csv\n",
      "Physics_low1000_1.csv: 'rule32' カラムを削除しました。\n",
      "Physics_low1000_1.csv: 修正後のCSVファイルを保存しました: ../../data/results/Physics/Physics_low1000_1.csv\n",
      "Physics_low1000_2.csv: 'rule32' カラムを削除しました。\n",
      "Physics_low1000_2.csv: 修正後のCSVファイルを保存しました: ../../data/results/Physics/Physics_low1000_2.csv\n",
      "Physics_low1000_3.csv: 'rule32' カラムは存在しません。\n",
      "Physics_low1000_3.csv: 修正後のCSVファイルを保存しました: ../../data/results/Physics/Physics_low1000_3.csv\n",
      "Physics_low1000_10.csv: 'rule32' カラムは存在しません。\n",
      "Physics_low1000_10.csv: 修正後のCSVファイルを保存しました: ../../data/results/Physics/Physics_low1000_10.csv\n",
      "Physics_high1000_8.csv: 'rule32' カラムは存在しません。\n",
      "Physics_high1000_8.csv: 修正後のCSVファイルを保存しました: ../../data/results/Physics/Physics_high1000_8.csv\n",
      "Physics_high1000_9.csv: 'rule32' カラムを削除しました。\n",
      "Physics_high1000_9.csv: 修正後のCSVファイルを保存しました: ../../data/results/Physics/Physics_high1000_9.csv\n",
      "Physics_high1000_4.csv: 'rule32' カラムは存在しません。\n",
      "Physics_high1000_4.csv: 修正後のCSVファイルを保存しました: ../../data/results/Physics/Physics_high1000_4.csv\n",
      "Physics_high1000_10.csv: 'rule32' カラムは存在しません。\n",
      "Physics_high1000_10.csv: 修正後のCSVファイルを保存しました: ../../data/results/Physics/Physics_high1000_10.csv\n",
      "Physics_high1000_5.csv: 'rule32' カラムは存在しません。\n",
      "Physics_high1000_5.csv: 修正後のCSVファイルを保存しました: ../../data/results/Physics/Physics_high1000_5.csv\n",
      "Physics_high1000_7.csv: 'rule32' カラムを削除しました。\n",
      "Physics_high1000_7.csv: 修正後のCSVファイルを保存しました: ../../data/results/Physics/Physics_high1000_7.csv\n",
      "Physics_high1000_6.csv: 'rule32' カラムは存在しません。\n",
      "Physics_high1000_6.csv: 修正後のCSVファイルを保存しました: ../../data/results/Physics/Physics_high1000_6.csv\n",
      "Physics_high1000_2.csv: 'rule32' カラムを削除しました。\n",
      "Physics_high1000_2.csv: 修正後のCSVファイルを保存しました: ../../data/results/Physics/Physics_high1000_2.csv\n",
      "Physics_high1000_3.csv: 'rule32' カラムを削除しました。\n",
      "Physics_high1000_3.csv: 修正後のCSVファイルを保存しました: ../../data/results/Physics/Physics_high1000_3.csv\n",
      "Physics_high1000_1.csv: 'rule32' カラムは存在しません。\n",
      "Physics_high1000_1.csv: 修正後のCSVファイルを保存しました: ../../data/results/Physics/Physics_high1000_1.csv\n",
      "Physics_low1000_8.csv: 'rule32' カラムは存在しません。\n",
      "Physics_low1000_8.csv: 修正後のCSVファイルを保存しました: ../../data/results/Physics/Physics_low1000_8.csv\n",
      "Physics_low1000_9.csv: 'rule32' カラムは存在しません。\n",
      "Physics_low1000_9.csv: 修正後のCSVファイルを保存しました: ../../data/results/Physics/Physics_low1000_9.csv\n"
     ]
    }
   ],
   "source": [
    "input_directory = \"../../data/results/Physics\"\n",
    "output_directory = \"../../data/results/Physics\"\n",
    "\n",
    "process_all_csv_files_in_directory(input_directory, output_directory)"
   ]
  }
 ],
 "metadata": {
  "kernelspec": {
   "display_name": "venv",
   "language": "python",
   "name": "python3"
  },
  "language_info": {
   "codemirror_mode": {
    "name": "ipython",
    "version": 3
   },
   "file_extension": ".py",
   "mimetype": "text/x-python",
   "name": "python",
   "nbconvert_exporter": "python",
   "pygments_lexer": "ipython3",
   "version": "3.12.7"
  }
 },
 "nbformat": 4,
 "nbformat_minor": 2
}
