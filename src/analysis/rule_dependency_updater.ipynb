{
 "cells": [
  {
   "cell_type": "markdown",
   "metadata": {},
   "source": [
    "指標の依存性に基づいて機械的に結果を書き換える\n",
    "\n",
    "1 が no のとき，2,3,4,\n",
    "\n",
    "5 が no のとき，6,7,8,9,10\n",
    "\n",
    "11 が no のとき，12\n",
    "\n",
    "13 が no のとき，15,\n",
    "\n",
    "17 が no のとき，18,19,20,21,22,23,24,29\n",
    "\n",
    "25 が no のとき，27\n",
    "\n",
    "26 が no のとき，28,30\n"
   ]
  },
  {
   "cell_type": "code",
   "execution_count": null,
   "metadata": {},
   "outputs": [],
   "source": [
    "from functions import process_csv_with_dependencies"
   ]
  },
  {
   "cell_type": "code",
   "execution_count": 14,
   "metadata": {},
   "outputs": [],
   "source": [
    "# CSVファイルの読み込み\n",
    "# input_path = \"../data/test/sampling_check_by_gemini_2.csv\"\n",
    "# output_path = \"../data/test/sampling_check_by_gemini_updated.csv\"\n",
    "input_path = \"../data/test/sampling_check_by_human.csv\"\n",
    "output_path = \"../data/test/sampling_check_by_human_updated.csv\"\n",
    "\n",
    "process_csv_with_dependencies(input_path, output_path)"
   ]
  }
 ],
 "metadata": {
  "kernelspec": {
   "display_name": "venv",
   "language": "python",
   "name": "python3"
  },
  "language_info": {
   "codemirror_mode": {
    "name": "ipython",
    "version": 3
   },
   "file_extension": ".py",
   "mimetype": "text/x-python",
   "name": "python",
   "nbconvert_exporter": "python",
   "pygments_lexer": "ipython3",
   "version": "3.12.7"
  }
 },
 "nbformat": 4,
 "nbformat_minor": 2
}
